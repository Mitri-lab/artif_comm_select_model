{
 "cells": [
  {
   "cell_type": "markdown",
   "metadata": {},
   "source": [
    "# Script to plot synergy.\n",
    "\n",
    "Adapted from previous scripts and formatted to correspond to '211014_synergies_per_species_richness_mean_auc_ok.py' by Pablo Guridi Fernandez"
   ]
  },
  {
   "cell_type": "code",
   "execution_count": null,
   "metadata": {},
   "outputs": [],
   "source": [
    "#Just some comments about this script\n",
    "#AUC:For the ancestral difference that we plot (violin plot) we don´t subtract initial population for community nor sum(monoculture). Careful in that script there are some data structures (ancestral_auc_mc) where I think I wrongly subtracted in_pop for sum(monoculture) and they are not even properly populated because seeds are renamed causing a problem, but ancestral_auc_mc is not used for the plot, so it´s fine.\n",
    "#we do subtract initial_population*time steps for evolved condition; since then we take difference evolved- sum(monoculture) and we subtract in both of them, the difference remains the same, so although it is not super clean in the script I think we are fine \n",
    "#The plot we use I think that plots the average value per repeat (and for the number of tubes - x axes- we do the average of the number of species per tube in the repeat and then round to have an exact number). "
   ]
  },
  {
   "cell_type": "code",
   "execution_count": 1,
   "metadata": {},
   "outputs": [],
   "source": [
    "import os \n",
    "import sys\n",
    "import copy\n",
    "import scipy\n",
    "import pickle\n",
    "import itertools\n",
    "import numpy as np\n",
    "import pandas as pd\n",
    "import seaborn as sns\n",
    "import matplotlib.pyplot as plt\n",
    "import scipy.spatial.distance as dis\n",
    "\n",
    "from os import listdir\n",
    "from ast import literal_eval\n",
    "from pathlib import Path\n",
    "from math import sqrt,exp,log\n",
    "from collections import Counter\n",
    "from scipy.stats import shapiro\n",
    "from scipy.stats import wilcoxon\n",
    "from itertools import zip_longest\n",
    "from os.path import isfile, isdir, join\n",
    "from datetime import date, datetime\n"
   ]
  },
  {
   "cell_type": "code",
   "execution_count": 2,
   "metadata": {},
   "outputs": [],
   "source": [
    "#where to find the data\n",
    "# path = \"/Users/pablo/Desktop/data_mitri/210822_2_ok/\"\n",
    "path = \"/Users/pablo/Desktop/code_paper/data/210822/\"  \n",
    "path_ancestral_combs = \"/Users/pablo/Desktop/code_paper/data/211005_all_communities/\"\n",
    "path_evolved_monocultures = \"/Users/pablo/Desktop/code_paper/data/211004_old_monocultures/\"\n",
    "\n",
    "\n",
    "#some info about these results\n",
    "#All the propagations we are using disassembly (d), propagule(p), migrant_pool(m), no_select(n),\n",
    "#either under selection (s) or random (r) treatment\n",
    "conditions = [\"d2_s\", \"d3_s\" \"p_s\", \"m_s\",\"n_r\", \"d2_r\", \"d3_r\" \"p_r\", \"m_r\", \"pip_s\", \"pip_r\", \"mip_s\", \"mip_r\"]\n",
    "#to rename for the plot, important in the same order as above\n",
    "conditions_rename = [\"D2S\", \"D3S\", \"PS\", \"MS\",\"NR\", \"D2R\", \"D3R\", \"PR\",  \"MR\", \"PIS\", \"PIR\", \"MIS\", \"MIR\"]\n",
    "seeds = [\"22\", \"23\", \"24\", \"25\", \"26\"] #for the plot they will be renamed as 1-5\n",
    "Nseeds = len(seeds)\n",
    "\n",
    "rd = 49\n",
    "tm = 80 #number of time steps in the simulation\n",
    "rounds = 25\n",
    "in_pop = 10 #initial population in monocultures used for the simulaitons\n",
    "total_sp = 15\n",
    "num_tubes = 21\n",
    "num_repeats = 10\n",
    "\n",
    "#where to store the results\n",
    "#path_save = \"/Users/pablo/Desktop/211111_results/\"\n",
    "path_save = \"/Users/pablo/Desktop/220628_plots_mitri/\"\n"
   ]
  },
  {
   "cell_type": "code",
   "execution_count": 3,
   "metadata": {},
   "outputs": [
    {
     "name": "stdout",
     "output_type": "stream",
     "text": [
      "                                                     com len_com    final_pop  \\\n",
      "0      (0, 1, 2, 3, 4, 5, 6, 7, 8, 9, 10, 11, 12, 13,...      15  1070.333333   \n",
      "1         (0, 1, 2, 3, 4, 5, 6, 7, 8, 9, 10, 11, 12, 13)      14  1045.333333   \n",
      "2         (0, 1, 2, 3, 4, 5, 6, 7, 8, 9, 10, 11, 12, 14)      14   956.666667   \n",
      "3         (0, 1, 2, 3, 4, 5, 6, 7, 8, 9, 10, 11, 13, 14)      14  1057.666667   \n",
      "4         (0, 1, 2, 3, 4, 5, 6, 7, 8, 9, 10, 12, 13, 14)      14  1091.333333   \n",
      "...                                                  ...     ...          ...   \n",
      "32762                                              (10,)       1     1.333333   \n",
      "32763                                              (11,)       1   555.333333   \n",
      "32764                                              (12,)       1   210.000000   \n",
      "32765                                              (13,)       1    80.000000   \n",
      "32766                                              (14,)       1     1.000000   \n",
      "\n",
      "          max_pop  fold_change            auc  deg_score  nut_score  sp_div_H  \\\n",
      "0      144.155556     7.135548  112005.000000   0.459740   0.999912  1.943740   \n",
      "1      155.809524     7.466659  111770.333333   0.440010   0.999852  1.967980   \n",
      "2      156.261905     6.833327  107229.666667   0.418150   0.999861  1.810098   \n",
      "3      157.880952     7.554754  113126.000000   0.451013   0.999843  1.905857   \n",
      "4      145.285714     7.795230  108595.333333   0.475120   0.999832  1.931972   \n",
      "...           ...          ...            ...        ...        ...       ...   \n",
      "32762   10.666667     0.133333     460.666667   0.060497   0.052969  0.000000   \n",
      "32763  995.333333    55.533278   49930.000000   0.221060   0.292893  0.000000   \n",
      "32764  235.666667    20.999979    8571.666667   0.323934   0.290518  0.000000   \n",
      "32765  203.333333     7.999992    9103.333333   0.178915   0.133975  0.000000   \n",
      "32766   10.000000     0.100000     298.000000   0.037722   0.035373  0.000000   \n",
      "\n",
      "      seed  mc_deg_score         mc_auc        syn_auc   syn_deg  \n",
      "0        1      2.025272  428345.000000 -316340.000000 -1.565533  \n",
      "1        1      1.967913  427862.333333 -316092.000000 -1.527903  \n",
      "2        1      1.774062  317875.333333 -210645.666667 -1.355911  \n",
      "3        1      1.983734  428000.333333 -314874.333333 -1.532722  \n",
      "4        1      1.942496  411820.000000 -303224.666667 -1.467376  \n",
      "...    ...           ...            ...            ...       ...  \n",
      "32762    5      0.060497     460.666667       0.000000  0.000000  \n",
      "32763    5      0.221060   49930.000000       0.000000  0.000000  \n",
      "32764    5      0.323934    8571.666667       0.000000  0.000000  \n",
      "32765    5      0.178915    9103.333333       0.000000  0.000000  \n",
      "32766    5      0.037722     298.000000       0.000000  0.000000  \n",
      "\n",
      "[163835 rows x 14 columns]\n"
     ]
    }
   ],
   "source": [
    "#%%GENERATE DATA STRUCTURES TO ORGANISE THE INFORMATION\n",
    "df_all_all = pd.DataFrame(columns=['com', \"len_com\", 'final_pop', 'max_pop', 'fold_change', 'auc', 'deg_score',\n",
    "       'nut_score', 'sp_div_H', 'seed', \"mc_deg_score\", \"mc_auc\", \"syn_auc\",\"syn_deg\"])\n",
    "\n",
    "for i_s,seed in enumerate(seeds):\n",
    "    df_all =  pd.read_csv(path_ancestral_combs +  seed + \"/df.csv\")\n",
    "    df_all[\"seed\"] = i_s+1 #add a column with the seed to the  dataframe (renamed as 1-5)\n",
    "\n",
    "    # tuples are converted to string when we store as .csv , so we evaluate that. \n",
    "    df_all['com'] = df_all.com.apply(lambda x: literal_eval(str(x)))\n",
    "    df_all[\"len_com\"]=df_all.com.apply(len)\n",
    "    df_mono = df_all[df_all['com'].map(len)<= 1]\n",
    "\n",
    "    #append auc and deg synergy to each community\n",
    "    mc_deg = []\n",
    "    mc_auc = []\n",
    "    c_num_sp = []\n",
    "    for com in df_all[\"com\"]:\n",
    "        #calculate the corresponding degradation of the ancestral monocultures\n",
    "        sum_deg = []\n",
    "        sum_auc =[]\n",
    "        for sp in com:\n",
    "            deg = df_mono.loc[df_mono[\"com\"]==(sp,),\"deg_score\"]\n",
    "            auc = df_mono.loc[df_mono[\"com\"]==(sp,),\"auc\"]\n",
    "            sum_deg.append(float(deg))\n",
    "            sum_auc.append(float(auc))\n",
    "        mc_deg.append(sum(sum_deg))\n",
    "        mc_auc.append(sum(sum_auc))\n",
    "        #c_num_sp.append(colors[len(sum_deg)-1])\n",
    "    \n",
    "    df_all = df_all.assign(mc_deg_score = mc_deg)\n",
    "    df_all = df_all.assign(mc_auc = mc_auc)\n",
    "\n",
    "    #and also add colums direclty with the synergy\n",
    "    df_all[\"syn_auc\"] = df_all[\"auc\"] - df_all[\"mc_auc\"]\n",
    "    df_all[\"syn_deg\"] = df_all[\"deg_score\"] - df_all[\"mc_deg_score\"]\n",
    "    \n",
    "    #finally append to a dataframe wiht all the si\n",
    "    df_all_all = df_all_all.append(df_all)\n",
    "\n",
    "print(df_all_all)\n",
    "#print(max_deg)\n",
    "#print(mean_auc)\n",
    "#print(mean_div)"
   ]
  },
  {
   "cell_type": "code",
   "execution_count": 4,
   "metadata": {},
   "outputs": [
    {
     "data": {
      "text/plain": [
       "(14,)"
      ]
     },
     "execution_count": 4,
     "metadata": {},
     "output_type": "execute_result"
    }
   ],
   "source": [
    "com"
   ]
  },
  {
   "cell_type": "code",
   "execution_count": 5,
   "metadata": {},
   "outputs": [],
   "source": [
    "#%%Now we see the combinations we have at the end of each selecting method\n",
    "#(reusing code)\n",
    "#GENERATE DATA STRUCTURES\n",
    "evolved_deg = {} #community\n",
    "ancestral_deg_mc = {}\n",
    "ancestral_deg_com = {}\n",
    "evolved_auc = {}#community\n",
    "ancestral_auc_mc = {}\n",
    "ancestral_auc_com = {}\n",
    "evolved_deg_mc = {}\n",
    "evolved_auc_mc = {}\n",
    "\n",
    "prop = 'd3_s'\n",
    "\n",
    "len_com ={}\n",
    "for i_s,seed in enumerate(seeds):\n",
    "    evolved_deg[seed] = []\n",
    "    ancestral_deg_mc[seed] = []\n",
    "    ancestral_deg_com[seed] = []\n",
    "    evolved_auc[seed] = []\n",
    "    ancestral_auc_mc[seed] = []\n",
    "    ancestral_auc_com[seed] = []\n",
    "    evolved_deg_mc[seed] = []\n",
    "    evolved_auc_mc[seed] = []    \n",
    "    len_com[seed] = []\n",
    "\n",
    "    for repeat in range(num_repeats):\n",
    "        df_sp =  pd.read_csv(path + seed + \"/\" + prop + \"/repeat\" + str(repeat) + \"/df_sp.csv\")\n",
    "        df_grid = pd.read_csv(path + seed + \"/\" + prop + \"/repeat\" + str(repeat) + \"/df_grid.csv\")\n",
    "        df_sp = df_sp.loc[df_sp[\"round\"] == rd]\n",
    "        df_grid = df_grid.loc[df_grid[\"round\"] == rd]\n",
    "        #noe we will apend to the dict a list for each repeat\n",
    "        evolved_deg_rep = []\n",
    "        evolved_auc_rep = []\n",
    "        ancestral_deg_mc_rep = []\n",
    "        ancestral_auc_mc_rep = []\n",
    "        ancestral_deg_com_rep = []\n",
    "        ancestral_auc_com_rep = []\n",
    "        evolved_deg_mc_rep = []\n",
    "        evolved_auc_mc_rep = []\n",
    "        len_com_rep =[]\n",
    "            \n",
    "        for tube in range(num_tubes):\n",
    "            comb_tube = list(df_sp.loc[df_sp[\"tube\"] == tube, \"sp\"])\n",
    "                \n",
    "            #PROBLEM I get sometimes(really rare), an empty \"comb_tube\" due to extinctions, so a quick solve just to see:\n",
    "            if comb_tube:\n",
    "                evolved_deg_rep.append(df_grid.loc[df_grid[\"tube\"]==tube,\"deg_score\"].astype(float))\n",
    "                evolved_auc_rep.append(np.subtract(df_grid.loc[df_grid[\"tube\"]==tube,\"tot_auc\"].astype(float),\n",
    "                                                   tm*df_grid.loc[df_grid[\"tube\"]==tube,\"tot_pop_0\"].astype(float)))\n",
    "                \n",
    "                df_seed_and_comb = df_all_all.loc[(df_all_all[\"seed\"]== (i_s + 1)) & (df_all_all[\"com\"]==tuple(comb_tube)),:]\n",
    "                ancestral_deg_mc_rep.append(df_seed_and_comb.loc[:,\"mc_deg_score\"].astype(float))\n",
    "                ancestral_auc_mc_rep.append(np.subtract(df_seed_and_comb.loc[:,\"mc_auc\"].astype(float),\n",
    "                                                        tm*in_pop)) #*len(comb_tube)?\n",
    "                ancestral_deg_com_rep.append(df_all_all.loc[:,\"deg_score\"].astype(float))\n",
    "                ancestral_auc_com_rep.append(np.subtract(df_all_all.loc[:,\"auc\"].astype(float),\n",
    "                                                         tm*in_pop*len(comb_tube)))\n",
    "                len_com_rep.append(len(comb_tube))\n",
    "    \n",
    "                #load the evolved monocultures\n",
    "                deg_tube_evolvedmono=[]\n",
    "                auc_tube_evolvedmono=[]\n",
    "                for sp in comb_tube:\n",
    "                    df_grid_sp = pd.read_csv(path_evolved_monocultures + \"{}/{}/repeat{}/comm{}/mono{}/df_grid.csv\".format(seed,prop,repeat,tube, int(sp)))\n",
    "                    #we append the mean of the 3 replicates we have run for each speci\n",
    "                    deg_tube_evolvedmono.append(np.mean(df_grid_sp[\"deg_score\"]))\n",
    "                    auc_tube_evolvedmono.append(np.mean(df_grid_sp[\"tot_auc\"])-tm*np.mean(df_grid_sp[\"tot_pop_0\"])) \n",
    "                    \n",
    "                evolved_deg_mc_rep.append(np.sum(deg_tube_evolvedmono))\n",
    "                evolved_auc_mc_rep.append(np.sum(auc_tube_evolvedmono))\n",
    "                     \n",
    "            else:\n",
    "                print(seed, repeat,tube)\n",
    "        #append all the tubes and really do the difference by tube\n",
    "        evolved_deg[seed].append(evolved_deg_rep)\n",
    "        evolved_auc[seed].append(evolved_auc_rep)\n",
    "        ancestral_deg_mc[seed].append(ancestral_deg_mc_rep)\n",
    "        ancestral_auc_mc[seed].append(ancestral_auc_mc_rep)\n",
    "        ancestral_deg_com[seed].append(ancestral_deg_com_rep)\n",
    "        ancestral_auc_com[seed].append(ancestral_auc_com_rep)                \n",
    "        evolved_deg_mc[seed].append(evolved_deg_mc_rep)\n",
    "        evolved_auc_mc[seed].append(evolved_auc_mc_rep)\n",
    "        \n",
    "        len_com[seed].append(len_com_rep)\n",
    "        "
   ]
  },
  {
   "cell_type": "code",
   "execution_count": 6,
   "metadata": {},
   "outputs": [
    {
     "data": {
      "text/plain": [
       "[-260.33333333333337,\n",
       " 280.33333333333337,\n",
       " 8190.333333333334,\n",
       " -321.0,\n",
       " 10040.0,\n",
       " 10970.0]"
      ]
     },
     "execution_count": 6,
     "metadata": {},
     "output_type": "execute_result"
    }
   ],
   "source": [
    "auc_tube_evolvedmono"
   ]
  },
  {
   "cell_type": "code",
   "execution_count": 7,
   "metadata": {},
   "outputs": [],
   "source": [
    "#create a dataframe where we store the information for the communities that remain \n",
    "#maybe better to include all teh tubes?\n",
    "df_comms = pd.DataFrame(columns=[\"seed\", \"rep\", \"len_com\", \"syn_auc\", \"syn_deg\"])\n",
    "for i_s,seed in enumerate(seeds):\n",
    "    #add at least one to be able to plot\n",
    "    for len_here in range(total_sp):\n",
    "        df_now = pd.DataFrame([[i_s+1, -1, len_here + 1 , -400000,-3 ]],columns=[\"seed\", \"rep\", \"len_com\", \"syn_auc\", \"syn_deg\"])\n",
    "        df_comms = df_comms.append(df_now)\n",
    "    #one value per repeat\n",
    "    syn_auc_values = [np.mean(np.array(evolved_auc[seed][rp]) - np.array(evolved_auc_mc[seed][rp])) for rp in range(num_repeats)]\n",
    "    syn_deg_values = [np.mean(np.array(evolved_deg[seed][rp]) - np.array(evolved_deg_mc[seed][rp])) for rp in range(num_repeats)]\n",
    "    for rp in range(num_repeats):\n",
    "        df_now = pd.DataFrame([[seed, rp, round(np.mean(len_com[seed][rp])), syn_auc_values[rp],syn_deg_values[rp] ]],columns=[\"seed\", \"rep\", \"len_com\", \"syn_auc\", \"syn_deg\"])\n",
    "        df_comms = df_comms.append(df_now)\n",
    "        "
   ]
  },
  {
   "cell_type": "code",
   "execution_count": 8,
   "metadata": {},
   "outputs": [
    {
     "data": {
      "text/html": [
       "<div>\n",
       "<style scoped>\n",
       "    .dataframe tbody tr th:only-of-type {\n",
       "        vertical-align: middle;\n",
       "    }\n",
       "\n",
       "    .dataframe tbody tr th {\n",
       "        vertical-align: top;\n",
       "    }\n",
       "\n",
       "    .dataframe thead th {\n",
       "        text-align: right;\n",
       "    }\n",
       "</style>\n",
       "<table border=\"1\" class=\"dataframe\">\n",
       "  <thead>\n",
       "    <tr style=\"text-align: right;\">\n",
       "      <th></th>\n",
       "      <th>seed</th>\n",
       "      <th>rep</th>\n",
       "      <th>len_com</th>\n",
       "      <th>syn_auc</th>\n",
       "      <th>syn_deg</th>\n",
       "    </tr>\n",
       "  </thead>\n",
       "  <tbody>\n",
       "    <tr>\n",
       "      <th>0</th>\n",
       "      <td>26</td>\n",
       "      <td>9</td>\n",
       "      <td>6</td>\n",
       "      <td>7068.777778</td>\n",
       "      <td>-0.127057</td>\n",
       "    </tr>\n",
       "  </tbody>\n",
       "</table>\n",
       "</div>"
      ],
      "text/plain": [
       "  seed  rep  len_com      syn_auc   syn_deg\n",
       "0   26    9        6  7068.777778 -0.127057"
      ]
     },
     "execution_count": 8,
     "metadata": {},
     "output_type": "execute_result"
    }
   ],
   "source": [
    "df_now"
   ]
  },
  {
   "cell_type": "code",
   "execution_count": 9,
   "metadata": {},
   "outputs": [
    {
     "data": {
      "text/html": [
       "<svg  width=\"440\" height=\"55\"><rect x=\"0\" y=\"0\" width=\"55\" height=\"55\" style=\"fill:#66c2a5;stroke-width:2;stroke:rgb(255,255,255)\"/><rect x=\"55\" y=\"0\" width=\"55\" height=\"55\" style=\"fill:#fc8d62;stroke-width:2;stroke:rgb(255,255,255)\"/><rect x=\"110\" y=\"0\" width=\"55\" height=\"55\" style=\"fill:#8da0cb;stroke-width:2;stroke:rgb(255,255,255)\"/><rect x=\"165\" y=\"0\" width=\"55\" height=\"55\" style=\"fill:#e78ac3;stroke-width:2;stroke:rgb(255,255,255)\"/><rect x=\"220\" y=\"0\" width=\"55\" height=\"55\" style=\"fill:#a6d854;stroke-width:2;stroke:rgb(255,255,255)\"/><rect x=\"275\" y=\"0\" width=\"55\" height=\"55\" style=\"fill:#ffd92f;stroke-width:2;stroke:rgb(255,255,255)\"/><rect x=\"330\" y=\"0\" width=\"55\" height=\"55\" style=\"fill:#e5c494;stroke-width:2;stroke:rgb(255,255,255)\"/><rect x=\"385\" y=\"0\" width=\"55\" height=\"55\" style=\"fill:#b3b3b3;stroke-width:2;stroke:rgb(255,255,255)\"/></svg>"
      ],
      "text/plain": [
       "[(0.4, 0.7607843137254902, 0.6470588235294118),\n",
       " (0.9882352941176471, 0.5529411764705883, 0.3843137254901961),\n",
       " (0.5529411764705883, 0.6274509803921569, 0.796078431372549),\n",
       " (0.9058823529411765, 0.5411764705882353, 0.7647058823529411),\n",
       " (0.6509803921568628, 0.8470588235294118, 0.32941176470588235),\n",
       " (1.0, 0.8509803921568627, 0.1843137254901961),\n",
       " (0.8980392156862745, 0.7686274509803922, 0.5803921568627451),\n",
       " (0.7019607843137254, 0.7019607843137254, 0.7019607843137254)]"
      ]
     },
     "execution_count": 9,
     "metadata": {},
     "output_type": "execute_result"
    }
   ],
   "source": [
    "sns.color_palette(\"Set2\")"
   ]
  },
  {
   "cell_type": "code",
   "execution_count": 10,
   "metadata": {},
   "outputs": [
    {
     "data": {
      "image/png": "[encoded data removed]",
      "text/plain": [
       "<Figure size 576x216 with 1 Axes>"
      ]
     },
     "metadata": {
      "needs_background": "light"
     },
     "output_type": "display_data"
    }
   ],
   "source": [
    "#%%PLOT\n",
    "plt.rcParams['svg.fonttype'] = \"none\"\n",
    "fig = plt.figure(figsize=(8,3)) \n",
    "\n",
    "sns.set(style=\"ticks\")\n",
    "sns.set_style(\"darkgrid\")\n",
    "ax = fig.add_subplot(1,1,1)\n",
    "\n",
    "# make boxplot\n",
    "plt.axhline(y=0, color='black', linestyle='--', alpha = 0.5)\n",
    "    \n",
    "#bp= sns.boxplot(x=x_, y=y_, data=df_all_all, palette=\"colorblind\", hue='seed')\n",
    "# make grouped stripplot\n",
    "#bp= sns.stripplot(y=\"syn_deg\", x=\"len_com\", data=df_all_all, jitter=True,dodge=True, marker='o', alpha=0.5, palette=\"colorblind\")\n",
    "bp= sns.violinplot(y=\"syn_deg\", x=\"len_com\", data=df_all_all, jitter=True,dodge=True, \n",
    "                   marker='o', alpha=0.5, color=\"grey\", linewidth=0.2)\n",
    "bp= sns.stripplot(y=\"syn_deg\", x=\"len_com\", data=df_comms, jitter=True,dodge=True, \n",
    "                  marker='o', alpha=0.5, color = \"orange\", size=5)\n",
    "    \n",
    "# get legend information from the plot object\n",
    "handles, labels = bp.get_legend_handles_labels()\n",
    "# specify just one legend\n",
    "# l = plt.legend(handles[0:5], labels[0:5], title=\"Sp. set\")\n",
    "# t = plt.title(\"Difference between co-culture and the sum of monocultures\")\n",
    "plt.xlabel(\"Number of species in the community\")\n",
    "plt.ylabel(\"Degradation\")\n",
    "plt.ylim(-2.1,0.5)\n",
    "\n",
    "plt.savefig(path_save + \"violinplot_syn_deg_onlyDS.pdf\")\n",
    "plt.savefig(path_save + \"violinplot_syn_deg_onlyDS.svg\")"
   ]
  },
  {
   "cell_type": "code",
   "execution_count": 11,
   "metadata": {},
   "outputs": [
    {
     "name": "stdout",
     "output_type": "stream",
     "text": [
      "6.791462238084434e-14\n",
      "[0.00000000e+00 1.97658287e-03 3.18849161e-01 6.80730809e-05\n",
      " 1.21936804e-04 2.50396883e-07 4.44180225e-05 1.92355944e-02]\n"
     ]
    }
   ],
   "source": [
    "#### P-values of Kruskal-Wallis tests of whether median is different\n",
    "##   in selected vs in all comms\n",
    "lenvec = np.unique(df_comms.loc[df_comms.syn_deg!=-3,'len_com'])\n",
    "Nlens = len(lenvec)\n",
    "pvals = np.zeros(Nlens)\n",
    "for i,l in enumerate(lenvec):\n",
    "    data_all_len   = df_all_all.loc[df_all_all.len_com==l,'syn_deg'].values\n",
    "    data_comms_len = df_comms.loc[df_comms.len_com==l,'syn_deg'].values\n",
    "    data_comms_len = data_comms_len[data_comms_len!=-3]\n",
    "    if len(data_comms_len)>1:\n",
    "        st_degr, p_degr = scipy.stats.kruskal(data_all_len, data_comms_len)\n",
    "        pvals[i] = p_degr\n",
    "    \n",
    "dfcomms_nonzero = df_comms.loc[df_comms.syn_deg!=-3,'syn_deg'].values\n",
    "st_degr_total, p_degr_total = scipy.stats.kruskal(df_all_all.syn_deg, dfcomms_nonzero)\n",
    "print(p_degr_total)\n",
    "print(pvals)"
   ]
  },
  {
   "cell_type": "code",
   "execution_count": 12,
   "metadata": {},
   "outputs": [
    {
     "data": {
      "image/png": "[encoded data removed]",
      "text/plain": [
       "<Figure size 576x216 with 1 Axes>"
      ]
     },
     "metadata": {},
     "output_type": "display_data"
    }
   ],
   "source": [
    "fig = plt.figure(figsize=(8,3)) \n",
    "sns.set(style=\"ticks\")\n",
    "sns.set_style(\"darkgrid\")\n",
    "ax = fig.add_subplot(1,1,1)\n",
    "#make boxplot\n",
    "plt.axhline(y=0, color='black', linestyle='--', alpha = 0.5)\n",
    "#bp= sns.boxplot(x=x_, y=y_, data=df_all_all, palette=\"colorblind\", hue='seed')\n",
    "# make grouped stripplot\n",
    "bp= sns.violinplot(y=\"syn_auc\", x=\"len_com\", data=df_all_all, jitter=True,dodge=True, \n",
    "                   marker='o', alpha=0.5, color=\"grey\",linewidth=0.2)\n",
    "bp= sns.stripplot(y=\"syn_auc\", x=\"len_com\", data=df_comms, \n",
    "                  jitter=True,dodge=True, marker='o', alpha=0.8, color = \"orange\", size=7)\n",
    "    \n",
    "# get legend information from the plot object\n",
    "handles, labels = bp.get_legend_handles_labels()\n",
    "# specify just one legend\n",
    "# l = plt.legend(handles[0:5], labels[0:5], title=\"Sp. set\")\n",
    "# t = plt.title(\"Difference between co-culture and the sum of monocultures\")\n",
    "plt.xlabel(\"Number of species in the community\")\n",
    "plt.ylabel(\"Biomass (AUC)\")\n",
    "plt.ylim(-350000,50000)\n",
    "\n",
    "plt.savefig(path_save + \"violinplot_syn_auc_onlyDS.pdf\")\n",
    "plt.savefig(path_save + \"violinplot_syn_auc_onlyDS.svg\")"
   ]
  },
  {
   "cell_type": "code",
   "execution_count": 13,
   "metadata": {},
   "outputs": [
    {
     "name": "stdout",
     "output_type": "stream",
     "text": [
      "3.1827554971329314e-10\n",
      "[0.00000000e+00 1.97658287e-03 3.18849161e-01 6.80730809e-05\n",
      " 1.21936804e-04 2.50396883e-07 4.44180225e-05 1.92355944e-02]\n"
     ]
    }
   ],
   "source": [
    "#print(df_all_all.head())\n",
    "#print(df_comms.head())\n",
    "\n",
    "lenvec = np.unique(df_comms.loc[df_comms.syn_deg!=-3,'len_com'])\n",
    "Nlens = len(lenvec)\n",
    "pvals_auc = np.zeros(Nlens)\n",
    "for i,l in enumerate(lenvec):\n",
    "    data_all_len   = df_all_all.loc[df_all_all.len_com==l,'syn_auc'].values\n",
    "    data_comms_len = df_comms.loc[df_comms.len_com==l,'syn_auc'].values\n",
    "    data_comms_len = data_comms_len[data_comms_len!=-3]\n",
    "    if len(data_comms_len)>1:\n",
    "        st_degr, p_degr = scipy.stats.kruskal(data_all_len, data_comms_len)\n",
    "        pvals_auc[i] = p_degr\n",
    "    \n",
    "dfcomms_nonzero = df_comms.loc[df_comms.syn_auc!=-400000,'syn_auc'].values\n",
    "st_degr_total, p_degr_total = scipy.stats.kruskal(df_all_all.syn_auc, dfcomms_nonzero)\n",
    "print(p_degr_total)\n",
    "print(pvals)"
   ]
  },
  {
   "cell_type": "code",
   "execution_count": null,
   "metadata": {},
   "outputs": [],
   "source": []
  }
 ],
 "metadata": {
  "kernelspec": {
   "display_name": "Python 3",
   "language": "python",
   "name": "python3"
  },
  "language_info": {
   "codemirror_mode": {
    "name": "ipython",
    "version": 3
   },
   "file_extension": ".py",
   "mimetype": "text/x-python",
   "name": "python",
   "nbconvert_exporter": "python",
   "pygments_lexer": "ipython3",
   "version": "3.8.5"
  }
 },
 "nbformat": 4,
 "nbformat_minor": 4
}
